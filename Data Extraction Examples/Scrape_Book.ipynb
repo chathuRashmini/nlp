{
 "cells": [
  {
   "cell_type": "code",
   "execution_count": 1,
   "id": "56a9106d",
   "metadata": {},
   "outputs": [],
   "source": [
    "# Web Scraping Basics w/Requests and Beautiful Soup\n",
    "\n",
    "# The basic mechanisms to `scrape` the web. \n",
    "\n",
    "# Requests and BeautifulSoup are very popular libraries for web scraping\n",
    "\n",
    "import requests\n",
    "from bs4 import BeautifulSoup\n",
    "import os"
   ]
  },
  {
   "cell_type": "code",
   "execution_count": 2,
   "id": "086cc1cc",
   "metadata": {},
   "outputs": [],
   "source": [
    "html_target = \"a\" # the first html tag you want to scrape data from. \n",
    "\n",
    "tag = \"href\" # the string information you want to grab from a tag in that html_target\n",
    "\n",
    "f_ext = \".pdf\" # the filename extension you want to search for (scraping pdf files)\n",
    "\n",
    "dir_name = \"Ghodsi_Ali\" # the name of the path you want to store the files in\n",
    "\n",
    "url = 'https://www.cs.berkeley.edu/~alig/papers' # the base url you want to scrape."
   ]
  },
  {
   "cell_type": "code",
   "execution_count": 3,
   "id": "21236650",
   "metadata": {},
   "outputs": [],
   "source": [
    "# We instantiate a request object and call the `.get` method on it. \n",
    "# `r` is our `HTTP 1.1` response. \n",
    "\n",
    "# From here we have:\n",
    "# *    status\n",
    "# *    encoding\n",
    "# *    text of the body --- should type check this\n",
    "# *    content of the body --- type binary"
   ]
  },
  {
   "cell_type": "code",
   "execution_count": 4,
   "id": "a8351911",
   "metadata": {},
   "outputs": [
    {
     "data": {
      "text/plain": [
       "<Response [200]>"
      ]
     },
     "execution_count": 4,
     "metadata": {},
     "output_type": "execute_result"
    }
   ],
   "source": [
    "r = requests.get(url)\n",
    "r"
   ]
  },
  {
   "cell_type": "code",
   "execution_count": 5,
   "id": "e26115af",
   "metadata": {},
   "outputs": [
    {
     "data": {
      "text/plain": [
       "200"
      ]
     },
     "execution_count": 5,
     "metadata": {},
     "output_type": "execute_result"
    }
   ],
   "source": [
    "status = r.status_code\n",
    "status"
   ]
  },
  {
   "cell_type": "code",
   "execution_count": 6,
   "id": "6be61c5d",
   "metadata": {},
   "outputs": [
    {
     "data": {
      "text/plain": [
       "'ISO-8859-1'"
      ]
     },
     "execution_count": 6,
     "metadata": {},
     "output_type": "execute_result"
    }
   ],
   "source": [
    "encoding = r.encoding # should type check this\n",
    "encoding"
   ]
  },
  {
   "cell_type": "code",
   "execution_count": 7,
   "id": "de63e180",
   "metadata": {},
   "outputs": [],
   "source": [
    "html_doc = r.text"
   ]
  },
  {
   "cell_type": "code",
   "execution_count": 8,
   "id": "7abc4bbb",
   "metadata": {},
   "outputs": [],
   "source": [
    "soup = BeautifulSoup(html_doc, 'html.parser')"
   ]
  },
  {
   "cell_type": "code",
   "execution_count": 9,
   "id": "fea41980",
   "metadata": {},
   "outputs": [],
   "source": [
    "anchor = soup(html_target) # get all the anchor tags into a list"
   ]
  },
  {
   "cell_type": "code",
   "execution_count": 10,
   "id": "bb784a34",
   "metadata": {},
   "outputs": [],
   "source": [
    "def make_dir(directory):\n",
    "    \"\"\"\n",
    "    return: None\n",
    "    Makes directory if does not already exist\n",
    "    \"\"\"\n",
    "    if not os.path.exists(directory):\n",
    "        os.makedirs(directory)"
   ]
  },
  {
   "cell_type": "code",
   "execution_count": 11,
   "id": "b4380354",
   "metadata": {},
   "outputs": [],
   "source": [
    "# This function makes a new request each time it's called. \n",
    "# It writes the binary content to file.\n",
    "# This could be two functions. \n",
    "#     One to get the new request object/content. \n",
    "#     The other actually writes that content to file. \n",
    "# This modular design can be implemented by the reader if the reader is so inclined.\n",
    "\n",
    "def download_url(url, endpoint):\n",
    "    \"\"\"\n",
    "    return: None\n",
    "    downloads file, requires url in global or class scope.\n",
    "    \"\"\"\n",
    "    url_addr = \"{url}/{endpoint}\".format(url=url, endpoint=endpoint)\n",
    "    file_path = \"{directory}/{endpoint}\".format(directory=dir_name, endpoint=endpoint)\n",
    "    \n",
    "    r = requests.get(url_addr)\n",
    "    content_file = r.content\n",
    "    \n",
    "    with open(file_path, 'wb') as f:\n",
    "        print (\"\"\"Downloading From: {url}\\nWriting to: {file_path}\"\"\".format(\n",
    "                                                url=url_addr, \n",
    "                                                file_path=file_path\n",
    "                                                                    ))\n",
    "        f.write(content_file)\n",
    "        \n",
    "# This is the script in action. Isolated like this, it looks very meager. \n",
    "# It will be reconfigured as a series of method calls in the next iteration."
   ]
  },
  {
   "cell_type": "code",
   "execution_count": 12,
   "id": "73ba66b4",
   "metadata": {},
   "outputs": [
    {
     "name": "stdout",
     "output_type": "stream",
     "text": [
      "Status: 200\n",
      "Encoding: ISO-8859-1\n"
     ]
    }
   ],
   "source": [
    "print (\"\"\"Status: {status}\\nEncoding: {encoding}\"\"\".format(status=status, encoding=encoding))"
   ]
  },
  {
   "cell_type": "code",
   "execution_count": 13,
   "id": "a23d3906",
   "metadata": {},
   "outputs": [
    {
     "name": "stdout",
     "output_type": "stream",
     "text": [
      "Begin downloading\n"
     ]
    }
   ],
   "source": [
    "print (\"Begin downloading\")"
   ]
  },
  {
   "cell_type": "code",
   "execution_count": 14,
   "id": "f698d9f3",
   "metadata": {},
   "outputs": [
    {
     "name": "stdout",
     "output_type": "stream",
     "text": [
      "Downloading From: https://www.cs.berkeley.edu/~alig/papers/architecting-for-innovation.pdf\n",
      "Writing to: Ghodsi_Ali/architecting-for-innovation.pdf\n",
      "Finished Download -- architecting-for-innovation.pdf\n",
      "Downloading From: https://www.cs.berkeley.edu/~alig/papers/bolt-on-causal-consistency.pdf\n",
      "Writing to: Ghodsi_Ali/bolt-on-causal-consistency.pdf\n",
      "Finished Download -- bolt-on-causal-consistency.pdf\n",
      "Downloading From: https://www.cs.berkeley.edu/~alig/papers/cap-for-networks.pdf\n",
      "Writing to: Ghodsi_Ali/cap-for-networks.pdf\n",
      "Finished Download -- cap-for-networks.pdf\n",
      "Downloading From: https://www.cs.berkeley.edu/~alig/papers/choosy.pdf\n",
      "Writing to: Ghodsi_Ali/choosy.pdf\n",
      "Finished Download -- choosy.pdf\n",
      "Downloading From: https://www.cs.berkeley.edu/~alig/papers/content-oriented-naming.pdf\n",
      "Writing to: Ghodsi_Ali/content-oriented-naming.pdf\n",
      "Finished Download -- content-oriented-naming.pdf\n",
      "Downloading From: https://www.cs.berkeley.edu/~alig/papers/dangers-causal-consistency.pdf\n",
      "Writing to: Ghodsi_Ali/dangers-causal-consistency.pdf\n",
      "Finished Download -- dangers-causal-consistency.pdf\n",
      "Downloading From: https://www.cs.berkeley.edu/~alig/papers/datacenter-needs-os.pdf\n",
      "Writing to: Ghodsi_Ali/datacenter-needs-os.pdf\n",
      "Finished Download -- datacenter-needs-os.pdf\n",
      "Downloading From: https://www.cs.berkeley.edu/~alig/papers/ddrf.pdf\n",
      "Writing to: Ghodsi_Ali/ddrf.pdf\n",
      "Finished Download -- ddrf.pdf\n",
      "Downloading From: https://www.cs.berkeley.edu/~alig/papers/disk-locality-irrelevant.pdf\n",
      "Writing to: Ghodsi_Ali/disk-locality-irrelevant.pdf\n",
      "Finished Download -- disk-locality-irrelevant.pdf\n",
      "Downloading From: https://www.cs.berkeley.edu/~alig/papers/dolly.pdf\n",
      "Writing to: Ghodsi_Ali/dolly.pdf\n",
      "Finished Download -- dolly.pdf\n",
      "Downloading From: https://www.cs.berkeley.edu/~alig/papers/drf.pdf\n",
      "Writing to: Ghodsi_Ali/drf.pdf\n",
      "Finished Download -- drf.pdf\n",
      "Downloading From: https://www.cs.berkeley.edu/~alig/papers/drfq.pdf\n",
      "Writing to: Ghodsi_Ali/drfq.pdf\n",
      "Finished Download -- drfq.pdf\n",
      "Downloading From: https://www.cs.berkeley.edu/~alig/papers/drizzle.pdf\n",
      "Writing to: Ghodsi_Ali/drizzle.pdf\n",
      "Finished Download -- drizzle.pdf\n",
      "Downloading From: https://www.cs.berkeley.edu/~alig/papers/eventual-consistency-limitations-extensions.pdf\n",
      "Writing to: Ghodsi_Ali/eventual-consistency-limitations-extensions.pdf\n",
      "Finished Download -- eventual-consistency-limitations-extensions.pdf\n",
      "Downloading From: https://www.cs.berkeley.edu/~alig/papers/fairride.pdf\n",
      "Writing to: Ghodsi_Ali/fairride.pdf\n",
      "Finished Download -- fairride.pdf\n",
      "Downloading From: https://www.cs.berkeley.edu/~alig/papers/h-drf.pdf\n",
      "Writing to: Ghodsi_Ali/h-drf.pdf\n",
      "Finished Download -- h-drf.pdf\n",
      "Downloading From: https://www.cs.berkeley.edu/~alig/papers/hat-not-cap.pdf\n",
      "Writing to: Ghodsi_Ali/hat-not-cap.pdf\n",
      "Finished Download -- hat-not-cap.pdf\n",
      "Downloading From: https://www.cs.berkeley.edu/~alig/papers/hat-virtues-limitations.pdf\n",
      "Writing to: Ghodsi_Ali/hat-virtues-limitations.pdf\n",
      "Finished Download -- hat-virtues-limitations.pdf\n",
      "Downloading From: https://www.cs.berkeley.edu/~alig/papers/http.pdf\n",
      "Writing to: Ghodsi_Ali/http.pdf\n",
      "Finished Download -- http.pdf\n",
      "Downloading From: https://www.cs.berkeley.edu/~alig/papers/hug.pdf\n",
      "Writing to: Ghodsi_Ali/hug.pdf\n",
      "Finished Download -- hug.pdf\n",
      "Downloading From: https://www.cs.berkeley.edu/~alig/papers/incremental-icn.pdf\n",
      "Writing to: Ghodsi_Ali/incremental-icn.pdf\n",
      "Finished Download -- incremental-icn.pdf\n",
      "Downloading From: https://www.cs.berkeley.edu/~alig/papers/information-centric-networking-seeing-the-forest-for-the-trees.pdf\n",
      "Writing to: Ghodsi_Ali/information-centric-networking-seeing-the-forest-for-the-trees.pdf\n",
      "Finished Download -- information-centric-networking-seeing-the-forest-for-the-trees.pdf\n",
      "Downloading From: https://www.cs.berkeley.edu/~alig/papers/intelligent-design-evolution.pdf\n",
      "Writing to: Ghodsi_Ali/intelligent-design-evolution.pdf\n",
      "Finished Download -- intelligent-design-evolution.pdf\n",
      "Downloading From: https://www.cs.berkeley.edu/~alig/papers/mesos.pdf\n",
      "Writing to: Ghodsi_Ali/mesos.pdf\n",
      "Finished Download -- mesos.pdf\n",
      "Downloading From: https://www.cs.berkeley.edu/~alig/papers/mlflow.pdf\n",
      "Writing to: Ghodsi_Ali/mlflow.pdf\n",
      "Finished Download -- mlflow.pdf\n",
      "Downloading From: https://www.cs.berkeley.edu/~alig/papers/pacman.pdf\n",
      "Writing to: Ghodsi_Ali/pacman.pdf\n",
      "Finished Download -- pacman.pdf\n",
      "Downloading From: https://www.cs.berkeley.edu/~alig/papers/ramp.pdf\n",
      "Writing to: Ghodsi_Ali/ramp.pdf\n",
      "Finished Download -- ramp.pdf\n",
      "Downloading From: https://www.cs.berkeley.edu/~alig/papers/scalingspark.pdf\n",
      "Writing to: Ghodsi_Ali/scalingspark.pdf\n",
      "Finished Download -- scalingspark.pdf\n",
      "Downloading From: https://www.cs.berkeley.edu/~alig/papers/sdn-architecture.pdf\n",
      "Writing to: Ghodsi_Ali/sdn-architecture.pdf\n",
      "Finished Download -- sdn-architecture.pdf\n",
      "Downloading From: https://www.cs.berkeley.edu/~alig/papers/spark-cacm.pdf\n",
      "Writing to: Ghodsi_Ali/spark-cacm.pdf\n",
      "Finished Download -- spark-cacm.pdf\n",
      "Downloading From: https://www.cs.berkeley.edu/~alig/papers/sparkr.pdf\n",
      "Writing to: Ghodsi_Ali/sparkr.pdf\n",
      "Finished Download -- sparkr.pdf\n",
      "Downloading From: https://www.cs.berkeley.edu/~alig/papers/sparksql.pdf\n",
      "Writing to: Ghodsi_Ali/sparksql.pdf\n",
      "Finished Download -- sparksql.pdf\n",
      "Downloading From: https://www.cs.berkeley.edu/~alig/papers/structuredstreaming.pdf\n",
      "Writing to: Ghodsi_Ali/structuredstreaming.pdf\n",
      "Finished Download -- structuredstreaming.pdf\n",
      "Downloading From: https://www.cs.berkeley.edu/~alig/papers/tachyon-workshop.pdf\n",
      "Writing to: Ghodsi_Ali/tachyon-workshop.pdf\n",
      "Finished Download -- tachyon-workshop.pdf\n",
      "Downloading From: https://www.cs.berkeley.edu/~alig/papers/tachyon.pdf\n",
      "Writing to: Ghodsi_Ali/tachyon.pdf\n",
      "Finished Download -- tachyon.pdf\n"
     ]
    }
   ],
   "source": [
    "make_dir(dir_name)\n",
    "for a in anchor:\n",
    "    endpoint = a[tag]\n",
    "    if endpoint[-4:] == f_ext:\n",
    "            download_url(url, endpoint)\n",
    "            print (\"Finished Download -- {tag}\".format(tag=endpoint))\n",
    "            #print \"miss: {tag}\".format(tag=endpoint)"
   ]
  },
  {
   "cell_type": "code",
   "execution_count": 15,
   "id": "be922213",
   "metadata": {},
   "outputs": [
    {
     "name": "stdout",
     "output_type": "stream",
     "text": [
      "Finished Downloading\n"
     ]
    }
   ],
   "source": [
    "print (\"Finished Downloading\")"
   ]
  }
 ],
 "metadata": {
  "kernelspec": {
   "display_name": "Python 3 (ipykernel)",
   "language": "python",
   "name": "python3"
  },
  "language_info": {
   "codemirror_mode": {
    "name": "ipython",
    "version": 3
   },
   "file_extension": ".py",
   "mimetype": "text/x-python",
   "name": "python",
   "nbconvert_exporter": "python",
   "pygments_lexer": "ipython3",
   "version": "3.9.12"
  }
 },
 "nbformat": 4,
 "nbformat_minor": 5
}
