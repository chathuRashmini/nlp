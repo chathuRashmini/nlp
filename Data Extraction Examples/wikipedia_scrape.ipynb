{
 "cells": [
  {
   "cell_type": "code",
   "execution_count": 1,
   "id": "e9da00ae",
   "metadata": {},
   "outputs": [],
   "source": [
    "from bs4 import BeautifulSoup\n",
    "import requests"
   ]
  },
  {
   "cell_type": "code",
   "execution_count": 2,
   "id": "ba753b72",
   "metadata": {},
   "outputs": [],
   "source": [
    "start_url = 'https://en.wikipedia.org/wiki/Transhumanism'\n",
    "domain = 'https://en.wikipedia.org'"
   ]
  },
  {
   "cell_type": "code",
   "execution_count": 3,
   "id": "61d2fe9b",
   "metadata": {},
   "outputs": [],
   "source": [
    "def get_soup(url):\n",
    "    # get contents from url\n",
    "    content = requests.get(url).content\n",
    "    # get soup\n",
    "    return BeautifulSoup(content,'lxml') # choose lxml parser"
   ]
  },
  {
   "cell_type": "code",
   "execution_count": 4,
   "id": "a44bfaa7",
   "metadata": {},
   "outputs": [],
   "source": [
    "def extract_articles(url = start_url):\n",
    "    soup = get_soup(url)\n",
    "    p_tags = soup.findAll('p') # find all the paragraph tags\n",
    "    a_tags = [] # gather all <a> tags \n",
    "    \n",
    "    for p_tag in p_tags:\n",
    "        a_tags.extend(p_tag.findAll('a'))\n",
    "    \n",
    "     # filter the list : remove invalid links\n",
    "    a_tags = [ a_tag for a_tag in a_tags if 'title' in a_tag.attrs and 'href' in a_tag.attrs ]\n",
    "    \n",
    "    # get all the article titles\n",
    "    titles = [ a_tag.get('title') for a_tag in a_tags ]\n",
    "    \n",
    "    # get all the article links\n",
    "    links  = [ a_tag.get('href')  for a_tag in a_tags ]\n",
    "    \n",
    "    # get own titl\n",
    "    self_title = soup.find('h1', {'class' : 'firstHeading'}).text\n",
    "    \n",
    "    return self_title, titles, links"
   ]
  },
  {
   "cell_type": "code",
   "execution_count": 5,
   "id": "b9f908fa",
   "metadata": {},
   "outputs": [
    {
     "name": "stdout",
     "output_type": "stream",
     "text": [
      "Items : 488\n",
      "Items : 609\n",
      "Items : 754\n",
      "Items : 898\n"
     ]
    }
   ],
   "source": [
    "if __name__ == '__main__':\n",
    "    items = [] # list of scraped items\n",
    "    \n",
    "    title, ext_titles, ext_links = extract_articles(url=start_url)\n",
    "    \n",
    "    items.extend(zip([title]*len(ext_titles), ext_titles))\n",
    "    \n",
    "    for ext_link in ext_links:\n",
    "        print('Items : {}'.format(len(items)))\n",
    "        \n",
    "        title, ext_titles, ext_links = extract_articles(domain + ext_link)\n",
    "        items.extend(zip([title]*len(ext_titles), ext_titles))\n",
    "        \n",
    "        if len(items) > 1000:\n",
    "            break\n",
    "    \n",
    "    with open('links.txt', encoding='utf-8', mode='w') as f:\n",
    "        for item in items:\n",
    "            f.write(item[0] + '->' + item[1] + '\\n')"
   ]
  }
 ],
 "metadata": {
  "kernelspec": {
   "display_name": "Python 3 (ipykernel)",
   "language": "python",
   "name": "python3"
  },
  "language_info": {
   "codemirror_mode": {
    "name": "ipython",
    "version": 3
   },
   "file_extension": ".py",
   "mimetype": "text/x-python",
   "name": "python",
   "nbconvert_exporter": "python",
   "pygments_lexer": "ipython3",
   "version": "3.9.12"
  }
 },
 "nbformat": 4,
 "nbformat_minor": 5
}
