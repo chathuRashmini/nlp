{
 "cells": [
  {
   "cell_type": "code",
   "execution_count": 1,
   "id": "f4747e34",
   "metadata": {},
   "outputs": [],
   "source": [
    "from bs4 import BeautifulSoup\n",
    "import requests"
   ]
  },
  {
   "cell_type": "code",
   "execution_count": 2,
   "id": "da9488e4",
   "metadata": {},
   "outputs": [],
   "source": [
    "url = 'https://en.wikipedia.org/wiki/Transhumanism'"
   ]
  },
  {
   "cell_type": "code",
   "execution_count": 3,
   "id": "ac3e4249",
   "metadata": {},
   "outputs": [],
   "source": [
    "# get contents from url\n",
    "content = requests.get(url).content\n",
    "\n",
    "# get soup with lxml parser\n",
    "soup = BeautifulSoup(content,'lxml')\n",
    "\n",
    "# find the tag : <div class=\"toc\">\n",
    "tag = soup.find('div', {'class' : 'toc'}) # id=\"toc\" also works"
   ]
  },
  {
   "cell_type": "code",
   "execution_count": 4,
   "id": "249fb179",
   "metadata": {},
   "outputs": [],
   "source": [
    "# find all the paragraph tags\n",
    "p_tags = soup.findAll('p')\n",
    "\n",
    "# gather all <a> tags\n",
    "a_tags = []\n",
    "for p_tag in p_tags:\n",
    "    a_tags.extend(p_tag.findAll('a'))\n",
    "\n",
    "# filter the list : remove invalid links\n",
    "a_tags = [ a_tag for a_tag in a_tags if 'title' in a_tag.attrs and 'href' in a_tag.attrs ]"
   ]
  },
  {
   "cell_type": "code",
   "execution_count": 5,
   "id": "f3b3ca36",
   "metadata": {},
   "outputs": [],
   "source": [
    "# print all links\n",
    "f = open('content.txt', encoding='utf-8', mode='w')"
   ]
  },
  {
   "cell_type": "code",
   "execution_count": 6,
   "id": "d0776b4d",
   "metadata": {},
   "outputs": [],
   "source": [
    "for i, a_tag in enumerate(a_tags):\n",
    "    f.write(u'[{0}] {1} -> {2}'.format(i, a_tag.get('title'), a_tag.get('href'))+ '\\n')"
   ]
  }
 ],
 "metadata": {
  "kernelspec": {
   "display_name": "Python 3 (ipykernel)",
   "language": "python",
   "name": "python3"
  },
  "language_info": {
   "codemirror_mode": {
    "name": "ipython",
    "version": 3
   },
   "file_extension": ".py",
   "mimetype": "text/x-python",
   "name": "python",
   "nbconvert_exporter": "python",
   "pygments_lexer": "ipython3",
   "version": "3.9.12"
  }
 },
 "nbformat": 4,
 "nbformat_minor": 5
}
