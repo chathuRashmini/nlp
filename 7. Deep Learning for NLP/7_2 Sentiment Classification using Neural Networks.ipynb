{
 "cells": [
  {
   "cell_type": "markdown",
   "metadata": {},
   "source": [
    "# Import required dependencies"
   ]
  },
  {
   "cell_type": "code",
   "execution_count": 1,
   "metadata": {},
   "outputs": [
    {
     "name": "stderr",
     "output_type": "stream",
     "text": [
      "Using TensorFlow backend.\n",
      "/Users/arw/anaconda3/envs/text-analytics/lib/python3.7/site-packages/tensorflow/python/framework/dtypes.py:516: FutureWarning: Passing (type, 1) or '1type' as a synonym of type is deprecated; in a future version of numpy, it will be understood as (type, (1,)) / '(1,)type'.\n",
      "  _np_qint8 = np.dtype([(\"qint8\", np.int8, 1)])\n",
      "/Users/arw/anaconda3/envs/text-analytics/lib/python3.7/site-packages/tensorflow/python/framework/dtypes.py:517: FutureWarning: Passing (type, 1) or '1type' as a synonym of type is deprecated; in a future version of numpy, it will be understood as (type, (1,)) / '(1,)type'.\n",
      "  _np_quint8 = np.dtype([(\"quint8\", np.uint8, 1)])\n",
      "/Users/arw/anaconda3/envs/text-analytics/lib/python3.7/site-packages/tensorflow/python/framework/dtypes.py:518: FutureWarning: Passing (type, 1) or '1type' as a synonym of type is deprecated; in a future version of numpy, it will be understood as (type, (1,)) / '(1,)type'.\n",
      "  _np_qint16 = np.dtype([(\"qint16\", np.int16, 1)])\n",
      "/Users/arw/anaconda3/envs/text-analytics/lib/python3.7/site-packages/tensorflow/python/framework/dtypes.py:519: FutureWarning: Passing (type, 1) or '1type' as a synonym of type is deprecated; in a future version of numpy, it will be understood as (type, (1,)) / '(1,)type'.\n",
      "  _np_quint16 = np.dtype([(\"quint16\", np.uint16, 1)])\n",
      "/Users/arw/anaconda3/envs/text-analytics/lib/python3.7/site-packages/tensorflow/python/framework/dtypes.py:520: FutureWarning: Passing (type, 1) or '1type' as a synonym of type is deprecated; in a future version of numpy, it will be understood as (type, (1,)) / '(1,)type'.\n",
      "  _np_qint32 = np.dtype([(\"qint32\", np.int32, 1)])\n",
      "/Users/arw/anaconda3/envs/text-analytics/lib/python3.7/site-packages/tensorflow/python/framework/dtypes.py:525: FutureWarning: Passing (type, 1) or '1type' as a synonym of type is deprecated; in a future version of numpy, it will be understood as (type, (1,)) / '(1,)type'.\n",
      "  np_resource = np.dtype([(\"resource\", np.ubyte, 1)])\n",
      "/Users/arw/anaconda3/envs/text-analytics/lib/python3.7/site-packages/tensorboard/compat/tensorflow_stub/dtypes.py:541: FutureWarning: Passing (type, 1) or '1type' as a synonym of type is deprecated; in a future version of numpy, it will be understood as (type, (1,)) / '(1,)type'.\n",
      "  _np_qint8 = np.dtype([(\"qint8\", np.int8, 1)])\n",
      "/Users/arw/anaconda3/envs/text-analytics/lib/python3.7/site-packages/tensorboard/compat/tensorflow_stub/dtypes.py:542: FutureWarning: Passing (type, 1) or '1type' as a synonym of type is deprecated; in a future version of numpy, it will be understood as (type, (1,)) / '(1,)type'.\n",
      "  _np_quint8 = np.dtype([(\"quint8\", np.uint8, 1)])\n",
      "/Users/arw/anaconda3/envs/text-analytics/lib/python3.7/site-packages/tensorboard/compat/tensorflow_stub/dtypes.py:543: FutureWarning: Passing (type, 1) or '1type' as a synonym of type is deprecated; in a future version of numpy, it will be understood as (type, (1,)) / '(1,)type'.\n",
      "  _np_qint16 = np.dtype([(\"qint16\", np.int16, 1)])\n",
      "/Users/arw/anaconda3/envs/text-analytics/lib/python3.7/site-packages/tensorboard/compat/tensorflow_stub/dtypes.py:544: FutureWarning: Passing (type, 1) or '1type' as a synonym of type is deprecated; in a future version of numpy, it will be understood as (type, (1,)) / '(1,)type'.\n",
      "  _np_quint16 = np.dtype([(\"quint16\", np.uint16, 1)])\n",
      "/Users/arw/anaconda3/envs/text-analytics/lib/python3.7/site-packages/tensorboard/compat/tensorflow_stub/dtypes.py:545: FutureWarning: Passing (type, 1) or '1type' as a synonym of type is deprecated; in a future version of numpy, it will be understood as (type, (1,)) / '(1,)type'.\n",
      "  _np_qint32 = np.dtype([(\"qint32\", np.int32, 1)])\n",
      "/Users/arw/anaconda3/envs/text-analytics/lib/python3.7/site-packages/tensorboard/compat/tensorflow_stub/dtypes.py:550: FutureWarning: Passing (type, 1) or '1type' as a synonym of type is deprecated; in a future version of numpy, it will be understood as (type, (1,)) / '(1,)type'.\n",
      "  np_resource = np.dtype([(\"resource\", np.ubyte, 1)])\n"
     ]
    }
   ],
   "source": [
    "import keras\n",
    "from keras.models import Sequential\n",
    "from keras.layers import Dense, Softmax, Dropout\n",
    "from keras import backend as K\n",
    "from keras.utils import to_categorical\n",
    "from keras.preprocessing.sequence import pad_sequences\n",
    "from keras import regularizers\n",
    "\n",
    "import numpy as np\n",
    "import numpy.random as random\n",
    "from nltk.tokenize import word_tokenize\n",
    "\n",
    "import matplotlib.pyplot as plt\n",
    "from sklearn.metrics import confusion_matrix\n",
    "from sklearn.utils import class_weight\n",
    "\n",
    "%matplotlib inline"
   ]
  },
  {
   "cell_type": "markdown",
   "metadata": {},
   "source": [
    "# Define constants\n",
    "It is usually a good idea to have common constants defined up top, so we can easily change them as needed"
   ]
  },
  {
   "cell_type": "code",
   "execution_count": 2,
   "metadata": {},
   "outputs": [],
   "source": [
    "UNK_TOKEN = '__unk__'\n",
    "MAX_SEQUENCE_LENGTH = 50\n",
    "VOCAB_SIZE = 15000"
   ]
  },
  {
   "cell_type": "markdown",
   "metadata": {},
   "source": [
    "# Read data"
   ]
  },
  {
   "cell_type": "code",
   "execution_count": 3,
   "metadata": {},
   "outputs": [
    {
     "name": "stdout",
     "output_type": "stream",
     "text": [
      "Read 40000 lines\n"
     ]
    }
   ],
   "source": [
    "import csv\n",
    "\n",
    "emotions = {\n",
    "\t\"anger\":0,\n",
    "\t\"boredom\":1,\n",
    "\t\"empty\":2,\n",
    "\t\"enthusiasm\":3,\n",
    "\t\"fun\":4,\n",
    "\t\"happiness\":5,\n",
    "\t\"hate\":6,\n",
    "\t\"love\":7,\n",
    "\t\"neutral\":8,\n",
    "\t\"relief\":9,\n",
    "\t\"sadness\":10,\n",
    "\t\"surprise\":11,\n",
    "\t\"worry\": 12\n",
    "}\n",
    "\n",
    "emotions_stats = {k: 0 for k in emotions}\n",
    "data_lines = []\n",
    "num_classes = len(emotions)\n",
    "with open('data/sentiment/text_emotion.csv', newline='') as f:\n",
    "    reader = csv.reader(f)\n",
    "    for row_idx, row in enumerate(reader):\n",
    "        # Ignore first row since its a header row in the dataset\n",
    "        if row_idx == 0: continue\n",
    "            \n",
    "        # Append a tuple of (emotion_index, text)\n",
    "        if row[1] in emotions:\n",
    "            data_lines.append((emotions[row[1]],row[3]))\n",
    "            emotions_stats[row[1]] += 1\n",
    "print(\"Read %d lines\"%(len(data_lines)))"
   ]
  },
  {
   "cell_type": "markdown",
   "metadata": {},
   "source": [
    "## Train/Dev/Test splits\n",
    "To see if our model actually learns, we divide all of the data into these three splits (70-10-20 split for train-dev-test)"
   ]
  },
  {
   "cell_type": "code",
   "execution_count": 4,
   "metadata": {},
   "outputs": [],
   "source": [
    "# Send random seed for reproducible results\n",
    "# random.seed(5) # Gets test set\n",
    "random.seed(2019) # Gets new blind test set\n",
    "random.shuffle(data_lines)\n",
    "\n",
    "total_instances = len(data_lines)\n",
    "num_train_instances = int(0.7 * total_instances)\n",
    "num_dev_instances = int(0.1 * total_instances)\n",
    "num_test_instances = int(0.2 * total_instances)\n",
    "\n",
    "train = data_lines[:num_train_instances]\n",
    "dev = data_lines[num_train_instances:num_train_instances + num_dev_instances]\n",
    "test = data_lines[num_train_instances + num_dev_instances:num_train_instances + num_dev_instances + num_test_instances]"
   ]
  },
  {
   "cell_type": "markdown",
   "metadata": {},
   "source": [
    "## Preprocessing "
   ]
  },
  {
   "cell_type": "code",
   "execution_count": 5,
   "metadata": {},
   "outputs": [
    {
     "name": "stdout",
     "output_type": "stream",
     "text": [
      "[5, 12, 7, 7, 4, 5, 9, 5, 11, 12]\n",
      "['Good morning  ready to start this week.', 'Suffering from  Hemorrhoids.', 'sizzling outside. Work inside = double', 'Brad Fastings is my favorite person to hang out with from 12 AM to 5 AM', 'shake shake shake shake shake it', \"@DavidArchie I'm watching some of your videos in YouTube. You're funny David.  Oh and TALENTED of course!\", 'Finished up cleaning my desk at least. . . office is looking empty. . .almost time to be in the car for 1 1/2!  #fb', 'just got home from a nice party, just not tired yet', 'Listen to Back Around by @ddlovato ...love this song. Meet @TiniOlsen tomorrow ^.^ But we canï¿½t go swimming  Sorry', \"I'm yet holdin' on.\"]\n"
     ]
    }
   ],
   "source": [
    "# Separate out labels and data\n",
    "def get_data_labels(lines):\n",
    "    labels, data = [], []\n",
    "    for line in lines:\n",
    "        l, d = line\n",
    "        labels.append(int(l))\n",
    "        data.append(d)\n",
    "    \n",
    "    return labels, data\n",
    "\n",
    "train_labels, train_data = get_data_labels(train)\n",
    "dev_labels, dev_data = get_data_labels(dev)\n",
    "test_labels, test_data = get_data_labels(test)\n",
    "print(train_labels[:10])\n",
    "print(train_data[:10])"
   ]
  },
  {
   "cell_type": "code",
   "execution_count": 6,
   "metadata": {},
   "outputs": [
    {
     "name": "stdout",
     "output_type": "stream",
     "text": [
      "[['good', 'morning', 'ready', 'to', 'start', 'this', 'week', '.'], ['suffering', 'from', 'hemorrhoids', '.'], ['sizzling', 'outside', '.', 'work', 'inside', '=', 'double'], ['brad', 'fastings', 'is', 'my', 'favorite', 'person', 'to', 'hang', 'out', 'with', 'from', '12', 'am', 'to', '5', 'am'], ['shake', 'shake', 'shake', 'shake', 'shake', 'it'], ['@', 'davidarchie', 'i', \"'m\", 'watching', 'some', 'of', 'your', 'videos', 'in', 'youtube', '.', 'you', \"'re\", 'funny', 'david', '.', 'oh', 'and', 'talented', 'of', 'course', '!'], ['finished', 'up', 'cleaning', 'my', 'desk', 'at', 'least', '.', '.', '.', 'office', 'is', 'looking', 'empty', '.', '.', '.almost', 'time', 'to', 'be', 'in', 'the', 'car', 'for', '1', '1/2', '!', '#', 'fb'], ['just', 'got', 'home', 'from', 'a', 'nice', 'party', ',', 'just', 'not', 'tired', 'yet'], ['listen', 'to', 'back', 'around', 'by', '@', 'ddlovato', '...', 'love', 'this', 'song', '.', 'meet', '@', 'tiniolsen', 'tomorrow', '^.^', 'but', 'we', 'canï¿½t', 'go', 'swimming', 'sorry'], ['i', \"'m\", 'yet', 'holdin', \"'\", 'on', '.']]\n"
     ]
    }
   ],
   "source": [
    "# Preprocess data\n",
    "def preprocess(data):\n",
    "    # Tokenize (separate by space, punctuation etc) and lowercase all data\n",
    "    return [word_tokenize(t.lower()) for t in data]\n",
    "\n",
    "train_data = preprocess(train_data)\n",
    "dev_data = preprocess(dev_data)\n",
    "test_data = preprocess(test_data)\n",
    "print(train_data[:10])"
   ]
  },
  {
   "cell_type": "markdown",
   "metadata": {},
   "source": [
    "## Create vocabulary"
   ]
  },
  {
   "cell_type": "code",
   "execution_count": 7,
   "metadata": {},
   "outputs": [
    {
     "name": "stdout",
     "output_type": "stream",
     "text": [
      "Vocabulary size: 40815\n",
      "Most frequent tokens\n",
      "\ti: 16537\n",
      "\t!: 15530\n",
      "\t@: 14237\n",
      "\t.: 14166\n",
      "\tto: 10032\n",
      "\tthe: 9059\n",
      "\t,: 8609\n",
      "\ta: 6767\n",
      "\tmy: 5617\n",
      "\tyou: 5388\n",
      "Least frequent tokens\n",
      "\tzzerbe: 1\n",
      "\tgoooooodmorning: 1\n",
      "\tnawarii22: 1\n",
      "\teasports: 1\n",
      "\traczilla: 1\n",
      "\tspashed: 1\n",
      "\tkristanmarie: 1\n",
      "\tdbvictoria: 1\n",
      "\ttheka: 1\n",
      "\thyd: 1\n"
     ]
    }
   ],
   "source": [
    "# Prepare vocabulary\n",
    "full_vocab = dict()\n",
    "for instance in train_data:\n",
    "    for token in instance:\n",
    "        full_vocab[token] = 1 + full_vocab.get(token, 0)\n",
    "\n",
    "# Sort vocabulary by occurence\n",
    "sorted_vocab = sorted(full_vocab.keys(), key=lambda word: -full_vocab[word])\n",
    "\n",
    "# Print some samples\n",
    "print(\"Vocabulary size: %d\"%(len(sorted_vocab)))\n",
    "print(\"Most frequent tokens\")\n",
    "for i in range(10):\n",
    "    print(\"\\t%s: %d\"%(sorted_vocab[i], full_vocab[sorted_vocab[i]]))\n",
    "print(\"Least frequent tokens\")\n",
    "for i in range(1,11):\n",
    "    print(\"\\t%s: %d\"%(sorted_vocab[-i], full_vocab[sorted_vocab[-i]]))\n",
    "\n",
    "# We can choose to limit the vocab_size here to only a portion of the original vocab,\n",
    "# i.e. ignore infrequent tokens to save on memory\n",
    "vocab_size = VOCAB_SIZE\n",
    "    \n",
    "# Create final vocab\n",
    "word2idx = {w: idx for idx, w in enumerate(sorted_vocab[:vocab_size])}\n",
    "idx2word = {idx: w for idx, w in enumerate(sorted_vocab[:vocab_size])}\n",
    "\n",
    "\n",
    "word2idx[UNK_TOKEN] = vocab_size\n",
    "idx2word[vocab_size] = UNK_TOKEN\n",
    "vocab_size = vocab_size + 1"
   ]
  },
  {
   "cell_type": "markdown",
   "metadata": {},
   "source": [
    "## Filter text based on vocabulary\n",
    "We will now have to replace words we do not have in the vocabulary with a special token, `__unk__` in this case"
   ]
  },
  {
   "cell_type": "code",
   "execution_count": 8,
   "metadata": {},
   "outputs": [
    {
     "name": "stdout",
     "output_type": "stream",
     "text": [
      "Number of tokens filtered out as unknown:\n",
      "Train: 25815/457524\n",
      "Dev: 5264/65711\n",
      "Test: 10569/131644\n"
     ]
    }
   ],
   "source": [
    "train_data = [[t if t in word2idx else UNK_TOKEN for t in instance] for instance in train_data]\n",
    "dev_data = [[t if t in word2idx else UNK_TOKEN for t in instance] for instance in dev_data]\n",
    "test_data = [[t if t in word2idx else UNK_TOKEN for t in instance] for instance in test_data]\n",
    "\n",
    "print(\"Number of tokens filtered out as unknown:\")\n",
    "print(\"Train: %d/%d\"%(len([1 for instance in train_data for t in instance if t == UNK_TOKEN]), sum([len(i) for i in train_data])))\n",
    "print(\"Dev: %d/%d\"%(len([1 for instance in dev_data for t in instance if t == UNK_TOKEN]), sum([len(i) for i in dev_data])))\n",
    "print(\"Test: %d/%d\"%(len([1 for instance in test_data for t in instance if t == UNK_TOKEN]), sum([len(i) for i in test_data])))"
   ]
  },
  {
   "cell_type": "markdown",
   "metadata": {},
   "source": [
    "# Prepare data in tensor form\n",
    "Our keras models finally take tensors as input and labels, so we need to modify our data to fit this form"
   ]
  },
  {
   "cell_type": "code",
   "execution_count": 9,
   "metadata": {},
   "outputs": [],
   "source": [
    "## data_to_tensor\n",
    "# Given a list of instances, where each instance is a list of tokens,\n",
    "# this function does the following:\n",
    "# 1: Replace each token with its corresponding index\n",
    "# 2: Pad sequences to MAX_SEQUENCE_LENGTH (or truncate them if longer)\n",
    "#       Padding is done with a unique element, in this case `vocab_size`\n",
    "#       The network will learn that this unique element is padding and does not\n",
    "#        mean anything semantically\n",
    "# 3: Package everything nicely as a NUM_INSTANCES x MAX_SEQUENCE_LENGTH matrix\n",
    "def data_to_tensor(data):\n",
    "    # First convert from words to indices\n",
    "    idx_data = [[word2idx[t] for t in instance] for instance in data]\n",
    "    \n",
    "    # Create numpy representation\n",
    "    return pad_sequences([np.array(d) for d in idx_data], maxlen=MAX_SEQUENCE_LENGTH, dtype='int32', padding='pre', truncating='pre', value=vocab_size)\n",
    "\n",
    "X_train = data_to_tensor(train_data)\n",
    "y_train = to_categorical(np.array(train_labels, dtype=np.int))\n",
    "\n",
    "X_dev = data_to_tensor(dev_data)\n",
    "y_dev = to_categorical(np.array(dev_labels, dtype=np.int))\n",
    "\n",
    "X_test = data_to_tensor(test_data)\n",
    "y_test = to_categorical(np.array(test_labels, dtype=np.int))\n",
    "\n",
    "vocab_size = vocab_size + 1 # Add 1 for the padding token"
   ]
  },
  {
   "cell_type": "code",
   "execution_count": 10,
   "metadata": {},
   "outputs": [],
   "source": [
    "def idx_to_bow(data):\n",
    "    data_bow = np.zeros((data.shape[0], vocab_size)) \n",
    "    for i in range(data.shape[1]):\n",
    "        data_bow[np.arange(data.shape[0]), data[:, i]] = 1\n",
    "    return data_bow\n",
    "\n",
    "X_train_bow = idx_to_bow(X_train)\n",
    "X_dev_bow = idx_to_bow(X_dev)\n",
    "X_test_bow = idx_to_bow(X_test)"
   ]
  },
  {
   "cell_type": "markdown",
   "metadata": {},
   "source": [
    "# Model Definition"
   ]
  },
  {
   "cell_type": "code",
   "execution_count": 11,
   "metadata": {},
   "outputs": [
    {
     "name": "stdout",
     "output_type": "stream",
     "text": [
      "Model: \"sequential_1\"\n",
      "_________________________________________________________________\n",
      "Layer (type)                 Output Shape              Param #   \n",
      "=================================================================\n",
      "dense_1 (Dense)              (None, 25)                375075    \n",
      "_________________________________________________________________\n",
      "dropout_1 (Dropout)          (None, 25)                0         \n",
      "_________________________________________________________________\n",
      "dense_2 (Dense)              (None, 100)               2600      \n",
      "_________________________________________________________________\n",
      "dropout_2 (Dropout)          (None, 100)               0         \n",
      "_________________________________________________________________\n",
      "dense_3 (Dense)              (None, 50)                5050      \n",
      "_________________________________________________________________\n",
      "dense_4 (Dense)              (None, 13)                663       \n",
      "_________________________________________________________________\n",
      "softmax_1 (Softmax)          (None, 13)                0         \n",
      "=================================================================\n",
      "Total params: 383,388\n",
      "Trainable params: 383,388\n",
      "Non-trainable params: 0\n",
      "_________________________________________________________________\n"
     ]
    }
   ],
   "source": [
    "model = Sequential()\n",
    "model.add(Dense(25, input_shape=(vocab_size,), activation='relu'))\n",
    "model.add(Dropout(0.2))\n",
    "model.add(Dense(100, activation='relu'))\n",
    "model.add(Dropout(0.3))\n",
    "model.add(Dense(50, activation='relu'))\n",
    "model.add(Dense(len(emotions)))\n",
    "model.add(Softmax())\n",
    "model.compile(loss='categorical_crossentropy',\n",
    "              optimizer='adam',\n",
    "              metrics=['acc'])\n",
    "model.summary()"
   ]
  },
  {
   "cell_type": "code",
   "execution_count": 12,
   "metadata": {},
   "outputs": [
    {
     "name": "stdout",
     "output_type": "stream",
     "text": [
      "WARNING:tensorflow:From /Users/arw/anaconda3/envs/text-analytics/lib/python3.7/site-packages/keras/backend/tensorflow_backend.py:422: The name tf.global_variables is deprecated. Please use tf.compat.v1.global_variables instead.\n",
      "\n",
      "Train on 28000 samples, validate on 4000 samples\n",
      "Epoch 1/10\n",
      "28000/28000 [==============================] - 16s 560us/step - loss: 2.0493 - acc: 0.2954 - val_loss: 1.8730 - val_acc: 0.3602\n",
      "Epoch 2/10\n",
      "28000/28000 [==============================] - 14s 503us/step - loss: 1.7912 - acc: 0.3962 - val_loss: 1.8789 - val_acc: 0.3702\n",
      "Epoch 3/10\n",
      "28000/28000 [==============================] - 12s 422us/step - loss: 1.5848 - acc: 0.4703 - val_loss: 1.9449 - val_acc: 0.3575\n",
      "Epoch 4/10\n",
      "28000/28000 [==============================] - 12s 414us/step - loss: 1.3915 - acc: 0.5404 - val_loss: 2.0768 - val_acc: 0.3400\n",
      "Epoch 5/10\n",
      "28000/28000 [==============================] - 12s 440us/step - loss: 1.2325 - acc: 0.5916 - val_loss: 2.2490 - val_acc: 0.3365\n",
      "Epoch 6/10\n",
      "28000/28000 [==============================] - 12s 425us/step - loss: 1.1027 - acc: 0.6342 - val_loss: 2.3634 - val_acc: 0.3137\n",
      "Epoch 7/10\n",
      "28000/28000 [==============================] - 18s 629us/step - loss: 1.0077 - acc: 0.6625 - val_loss: 2.5480 - val_acc: 0.3135\n",
      "Epoch 8/10\n",
      "28000/28000 [==============================] - 12s 427us/step - loss: 0.9277 - acc: 0.6902 - val_loss: 2.6708 - val_acc: 0.3070\n",
      "Epoch 9/10\n",
      "28000/28000 [==============================] - 13s 476us/step - loss: 0.8568 - acc: 0.7149 - val_loss: 2.9227 - val_acc: 0.3122\n",
      "Epoch 10/10\n",
      "28000/28000 [==============================] - 12s 414us/step - loss: 0.8167 - acc: 0.7253 - val_loss: 3.0534 - val_acc: 0.3025\n"
     ]
    },
    {
     "data": {
      "text/plain": [
       "<keras.callbacks.callbacks.History at 0x13183e150>"
      ]
     },
     "execution_count": 12,
     "metadata": {},
     "output_type": "execute_result"
    }
   ],
   "source": [
    "model.fit(X_train_bow, y_train, epochs=10, validation_data=(X_dev_bow, y_dev))"
   ]
  },
  {
   "cell_type": "code",
   "execution_count": null,
   "metadata": {},
   "outputs": [
    {
     "name": "stdout",
     "output_type": "stream",
     "text": [
      "3008/8000 [==========>...................] - ETA: 1s"
     ]
    }
   ],
   "source": [
    "test_loss, test_acc = model.evaluate(X_test_bow, y_test)\n",
    "print(\"Test Set Accuracy: %0.2f%%\"%(test_acc*100))"
   ]
  },
  {
   "cell_type": "code",
   "execution_count": 19,
   "metadata": {},
   "outputs": [
    {
     "data": {
      "text/plain": [
       "([<matplotlib.axis.YTick at 0x1b57be0e10>,\n",
       "  <matplotlib.axis.YTick at 0x1b57be0748>,\n",
       "  <matplotlib.axis.YTick at 0x1b57bd6710>,\n",
       "  <matplotlib.axis.YTick at 0x1b57c577f0>,\n",
       "  <matplotlib.axis.YTick at 0x1b57c5e240>,\n",
       "  <matplotlib.axis.YTick at 0x1b57c5e748>,\n",
       "  <matplotlib.axis.YTick at 0x1b57c5ec50>,\n",
       "  <matplotlib.axis.YTick at 0x1b57c65198>,\n",
       "  <matplotlib.axis.YTick at 0x1b57c656a0>,\n",
       "  <matplotlib.axis.YTick at 0x1b57c65ba8>,\n",
       "  <matplotlib.axis.YTick at 0x1b57c6b160>,\n",
       "  <matplotlib.axis.YTick at 0x1b57c65a20>,\n",
       "  <matplotlib.axis.YTick at 0x1b57c5e320>],\n",
       " <a list of 13 Text yticklabel objects>)"
      ]
     },
     "execution_count": 19,
     "metadata": {},
     "output_type": "execute_result"
    },
    {
     "data": {
      "image/png": "[encoded data removed]",
      "text/plain": [
       "<Figure size 288x288 with 2 Axes>"
      ]
     },
     "metadata": {
      "needs_background": "light"
     },
     "output_type": "display_data"
    }
   ],
   "source": [
    "y_pred = model.predict(X_test_bow)\n",
    "y_pred = np.argmax(y_pred, axis=1)\n",
    "cm = confusion_matrix(np.argmax(y_test, axis=1), y_pred)\n",
    "plt.matshow(cm)\n",
    "plt.colorbar()\n",
    "\n",
    "tick_marks = np.arange(len(emotions))\n",
    "classes = sorted(emotions.keys(), key=lambda x: emotions[x])\n",
    "plt.xticks(tick_marks, classes, rotation=90)\n",
    "plt.yticks(tick_marks, classes)"
   ]
  },
  {
   "cell_type": "code",
   "execution_count": null,
   "metadata": {},
   "outputs": [],
   "source": []
  }
 ],
 "metadata": {
  "kernelspec": {
   "display_name": "Python 3",
   "language": "python",
   "name": "python3"
  },
  "language_info": {
   "codemirror_mode": {
    "name": "ipython",
    "version": 3
   },
   "file_extension": ".py",
   "mimetype": "text/x-python",
   "name": "python",
   "nbconvert_exporter": "python",
   "pygments_lexer": "ipython3",
   "version": "3.8.10"
  }
 },
 "nbformat": 4,
 "nbformat_minor": 2
}
