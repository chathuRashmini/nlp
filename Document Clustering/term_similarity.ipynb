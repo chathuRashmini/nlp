{
 "cells": [
  {
   "cell_type": "code",
   "execution_count": 1,
   "id": "46e7112f",
   "metadata": {},
   "outputs": [],
   "source": [
    "import numpy as np\n",
    "import copy\n",
    "import pandas as pd\n",
    "\n",
    "from scipy.stats import itemfreq"
   ]
  },
  {
   "cell_type": "code",
   "execution_count": 2,
   "id": "46721491",
   "metadata": {},
   "outputs": [],
   "source": [
    "# Simplest representation of tokens is as a sequence of characters\n",
    "def vectorize_terms(terms):\n",
    "    terms = [term.lower() for term in terms]\n",
    "    terms = [np.array(list(term)) for term in terms]\n",
    "    terms = [np.array([ord(char) for char in term]) \n",
    "                for term in terms]\n",
    "    return terms"
   ]
  },
  {
   "cell_type": "code",
   "execution_count": 3,
   "id": "55e2f9d0",
   "metadata": {},
   "outputs": [],
   "source": [
    "# Another possibility is a bag of characters representation (without order constraint)\n",
    "# Just use the frequency of each character as our word/token representation\n",
    "def boc_term_vectors(word_list):\n",
    "    word_list = [word.lower() for word in word_list]\n",
    "    unique_chars = np.unique(\n",
    "                        np.hstack([list(word) \n",
    "                        for word in word_list]))\n",
    "    word_list_term_counts = [{char: count for char, count in itemfreq(list(word))}\n",
    "                             for word in word_list]\n",
    "    \n",
    "    boc_vectors = [np.array([int(word_term_counts.get(char, 0)) \n",
    "                            for char in unique_chars])\n",
    "                   for word_term_counts in word_list_term_counts]\n",
    "    return list(unique_chars), boc_vectors"
   ]
  },
  {
   "cell_type": "code",
   "execution_count": 4,
   "id": "4961de7c",
   "metadata": {},
   "outputs": [
    {
     "name": "stdout",
     "output_type": "stream",
     "text": [
      "\n",
      "root: [ 98 101 108 105 101 118 101]\n",
      "term1: [ 98 101 108 101 105 118 101]\n",
      "term2: [ 98  97 114 103  97 105 110]\n",
      "term3: [101 108 101 112 104  97 110]\n",
      "\n"
     ]
    }
   ],
   "source": [
    "root = 'Believe'\n",
    "term1 = 'beleive'\n",
    "term2 = 'bargain'\n",
    "term3 = 'Elephan'  \n",
    "\n",
    "terms = [root, term1, term2, term3]\n",
    "\n",
    "# Vectorize the root and the terms\n",
    "vec_root, vec_term1, vec_term2, vec_term3 = vectorize_terms(terms)\n",
    "\n",
    "# Show vector representations\n",
    "print('''\n",
    "root: {}\n",
    "term1: {}\n",
    "term2: {}\n",
    "term3: {}\n",
    "'''.format(vec_root, vec_term1, vec_term2, vec_term3))"
   ]
  },
  {
   "cell_type": "code",
   "execution_count": 5,
   "id": "cbeeae94",
   "metadata": {},
   "outputs": [
    {
     "name": "stdout",
     "output_type": "stream",
     "text": [
      "Features: ['a', 'b', 'e', 'g', 'h', 'i', 'l', 'n', 'p', 'r', 'v']\n",
      "\n",
      "root: [0 1 3 0 0 1 1 0 0 0 1]\n",
      "term1: [0 1 3 0 0 1 1 0 0 0 1]\n",
      "term2: [2 1 0 1 0 1 0 1 0 1 0]\n",
      "term3: [1 0 2 0 1 0 1 1 1 0 0]\n",
      "\n"
     ]
    },
    {
     "name": "stderr",
     "output_type": "stream",
     "text": [
      "C:\\Users\\Chathumi Rashmini\\AppData\\Local\\Temp\\ipykernel_12148\\4116310840.py:8: DeprecationWarning: `itemfreq` is deprecated!\n",
      "`itemfreq` is deprecated and will be removed in a future version. Use instead `np.unique(..., return_counts=True)`\n",
      "  word_list_term_counts = [{char: count for char, count in itemfreq(list(word))}\n"
     ]
    }
   ],
   "source": [
    "# Vectorize root and terms in bag-of-characters representations\n",
    "features, (boc_root, boc_term1, boc_term2, boc_term3) = boc_term_vectors(terms)\n",
    "\n",
    "# Show the full list of features (all characters of all terms)\n",
    "print('Features:', features)\n",
    "\n",
    "# Show vector representation\n",
    "print('''\n",
    "root: {}\n",
    "term1: {}\n",
    "term2: {}\n",
    "term3: {}\n",
    "'''.format(boc_root, boc_term1, boc_term2, boc_term3))"
   ]
  },
  {
   "cell_type": "code",
   "execution_count": 6,
   "id": "047d67ad",
   "metadata": {},
   "outputs": [],
   "source": [
    "# Catch the 'unequal length terms' exception for the metrics that rely on equal length terms\n",
    "def hamming_distance(u, v, norm=False):\n",
    "    if u.shape != v.shape:\n",
    "        raise ValueError('The vectors must have equal lengths.')\n",
    "    return (u != v).sum() if not norm else (u != v).mean()\n",
    "    \n",
    "def manhattan_distance(u, v, norm=False):\n",
    "    if u.shape != v.shape:\n",
    "        raise ValueError('The vectors must have equal lengths.')\n",
    "    return abs(u - v).sum() if not norm else abs(u - v).mean()\n",
    "\n",
    "def euclidean_distance(u,v):\n",
    "    if u.shape != v.shape:\n",
    "        raise ValueError('The vectors must have equal lengths.')\n",
    "    distance = np.sqrt(np.sum(np.square(u - v)))\n",
    "    return distance"
   ]
  },
  {
   "cell_type": "code",
   "execution_count": 7,
   "id": "3c2fa501",
   "metadata": {},
   "outputs": [],
   "source": [
    "def levenshtein_edit_distance(u, v):\n",
    "    # Convert to lower case\n",
    "    u = u.lower()\n",
    "    v = v.lower()\n",
    "    \n",
    "    # Base cases\n",
    "    if u == v: return 0\n",
    "    elif len(u) == 0: return len(v)\n",
    "    elif len(v) == 0: return len(u)\n",
    "    \n",
    "    # Initialize edit distance matrix\n",
    "    edit_matrix = []\n",
    "    \n",
    "    # Initialize two distance matrices \n",
    "    du = [0] * (len(v) + 1)\n",
    "    dv = [0] * (len(v) + 1)\n",
    "    \n",
    "    # du: the previous row of edit distances\n",
    "    for i in range(len(du)):\n",
    "        du[i] = i\n",
    "    \n",
    "    # dv : the current row of edit distances    \n",
    "    for i in range(len(u)):\n",
    "        dv[0] = i + 1\n",
    "        \n",
    "        # Compute cost as per algorithm\n",
    "        for j in range(len(v)):\n",
    "            cost = 0 if u[i] == v[j] else 1\n",
    "            dv[j + 1] = min(dv[j] + 1, du[j + 1] + 1, du[j] + cost)\n",
    "        \n",
    "        # Assign dv to du for next iteration\n",
    "        for j in range(len(du)):\n",
    "            du[j] = dv[j]\n",
    "        \n",
    "        # Copy dv to the edit matrix\n",
    "        edit_matrix.append(copy.copy(dv))\n",
    "    \n",
    "    # Compute the final edit distance and edit matrix    \n",
    "    distance = dv[len(v)]\n",
    "    edit_matrix = np.array(edit_matrix)\n",
    "    edit_matrix = edit_matrix.T\n",
    "    edit_matrix = edit_matrix[1:,]\n",
    "    edit_matrix = pd.DataFrame(data=edit_matrix,\n",
    "                               index=list(v),\n",
    "                               columns=list(u))\n",
    "    return distance, edit_matrix"
   ]
  },
  {
   "cell_type": "code",
   "execution_count": 8,
   "id": "d01f64dc",
   "metadata": {},
   "outputs": [],
   "source": [
    "def cosine_distance(u, v):\n",
    "    distance = 1.0 - (np.dot(u, v) / \n",
    "                        (np.sqrt(sum(np.square(u))) * np.sqrt(sum(np.square(v))))\n",
    "                     )\n",
    "    return distance"
   ]
  },
  {
   "cell_type": "code",
   "execution_count": 9,
   "id": "1653cf6a",
   "metadata": {},
   "outputs": [
    {
     "name": "stdout",
     "output_type": "stream",
     "text": [
      "Hamming distance between root: Believe and term: beleive is 2\n",
      "Hamming distance between root: Believe and term: bargain is 6\n",
      "Hamming distance between root: Believe and term: Elephan is 7\n"
     ]
    }
   ],
   "source": [
    "# Set up the term vectors     \n",
    "root_term = root\n",
    "root_vector = vec_root\n",
    "root_boc_vector = boc_root\n",
    "\n",
    "terms = [term1, term2, term3]\n",
    "vector_terms = [vec_term1, vec_term2, vec_term3]\n",
    "boc_vector_terms = [boc_term1, boc_term2, boc_term3]\n",
    "\n",
    "\n",
    "# HAMMING DISTANCE - will give error for unequal length terms\n",
    "for term, vector_term in zip(terms, vector_terms):\n",
    "    print('Hamming distance between root: {} and term: {} is {}'.format(root_term,\n",
    "                                                                term,\n",
    "                                                                hamming_distance(root_vector, vector_term, norm=False)))"
   ]
  },
  {
   "cell_type": "code",
   "execution_count": 10,
   "id": "a17c7cf0",
   "metadata": {},
   "outputs": [
    {
     "name": "stdout",
     "output_type": "stream",
     "text": [
      "Normalized Hamming distance between root: Believe and term: beleive is 0.29\n",
      "Normalized Hamming distance between root: Believe and term: bargain is 0.86\n",
      "Normalized Hamming distance between root: Believe and term: Elephan is 1.0\n"
     ]
    }
   ],
   "source": [
    "for term, vector_term in zip(terms, vector_terms):\n",
    "    print('Normalized Hamming distance between root: {} and term: {} is {}'.format(root_term,\n",
    "                                                                term,\n",
    "                                                                round(hamming_distance(root_vector, vector_term, norm=True), 2)))"
   ]
  },
  {
   "cell_type": "code",
   "execution_count": 11,
   "id": "17098d0d",
   "metadata": {},
   "outputs": [
    {
     "name": "stdout",
     "output_type": "stream",
     "text": [
      "Manhattan distance between root: Believe and term: beleive is 8\n",
      "Manhattan distance between root: Believe and term: bargain is 38\n",
      "Manhattan distance between root: Believe and term: Elephan is 57\n"
     ]
    }
   ],
   "source": [
    "# MANHATTAN DISTANCE - will give error for unequal length terms\n",
    "for term, vector_term in zip(terms, vector_terms):\n",
    "    print('Manhattan distance between root: {} and term: {} is {}'.format(root_term,\n",
    "                                                                term,\n",
    "                                                                manhattan_distance(root_vector, vector_term, norm=False)))"
   ]
  },
  {
   "cell_type": "code",
   "execution_count": 12,
   "id": "b57032e3",
   "metadata": {},
   "outputs": [
    {
     "name": "stdout",
     "output_type": "stream",
     "text": [
      "Normalized Manhattan distance between root: Believe and term: beleive is 1.14\n",
      "Normalized Manhattan distance between root: Believe and term: bargain is 5.43\n",
      "Normalized Manhattan distance between root: Believe and term: Elephan is 8.14\n"
     ]
    }
   ],
   "source": [
    "for term, vector_term in zip(terms, vector_terms):\n",
    "    print('Normalized Manhattan distance between root: {} and term: {} is {}'.format(root_term,\n",
    "                                                                term,\n",
    "                                                                round(manhattan_distance(root_vector, vector_term, norm=True),2)))"
   ]
  },
  {
   "cell_type": "code",
   "execution_count": 13,
   "id": "5cb7bd42",
   "metadata": {},
   "outputs": [
    {
     "name": "stdout",
     "output_type": "stream",
     "text": [
      "Euclidean distance between root: Believe and term: beleive is 5.66\n",
      "Euclidean distance between root: Believe and term: bargain is 17.94\n",
      "Euclidean distance between root: Believe and term: Elephan is 26.21\n"
     ]
    }
   ],
   "source": [
    "# EUCLIDEAN DISTANCE - will give error for unequal length terms\n",
    "for term, vector_term in zip(terms, vector_terms):\n",
    "    print('Euclidean distance between root: {} and term: {} is {}'.format(root_term,\n",
    "                                                                term,\n",
    "                                                                round(euclidean_distance(root_vector, vector_term),2)))"
   ]
  },
  {
   "cell_type": "code",
   "execution_count": 14,
   "id": "f062e478",
   "metadata": {},
   "outputs": [
    {
     "name": "stdout",
     "output_type": "stream",
     "text": [
      "Computing distance between root: Believe and term: beleive\n",
      "Levenshtein edit distance is 2\n",
      "The complete edit distance matrix is depicted below\n",
      "   b  e  l  i  e  v  e\n",
      "b  0  1  2  3  4  5  6\n",
      "e  1  0  1  2  3  4  5\n",
      "l  2  1  0  1  2  3  4\n",
      "e  3  2  1  1  1  2  3\n",
      "i  4  3  2  1  2  2  3\n",
      "v  5  4  3  2  2  2  3\n",
      "e  6  5  4  3  2  3  2\n",
      "------------------------------\n",
      "Computing distance between root: Believe and term: bargain\n",
      "Levenshtein edit distance is 6\n",
      "The complete edit distance matrix is depicted below\n",
      "   b  e  l  i  e  v  e\n",
      "b  0  1  2  3  4  5  6\n",
      "a  1  1  2  3  4  5  6\n",
      "r  2  2  2  3  4  5  6\n",
      "g  3  3  3  3  4  5  6\n",
      "a  4  4  4  4  4  5  6\n",
      "i  5  5  5  4  5  5  6\n",
      "n  6  6  6  5  5  6  6\n",
      "------------------------------\n",
      "Computing distance between root: Believe and term: Elephan\n",
      "Levenshtein edit distance is 6\n",
      "The complete edit distance matrix is depicted below\n",
      "   b  e  l  i  e  v  e\n",
      "e  1  1  2  3  4  5  6\n",
      "l  2  2  1  2  3  4  5\n",
      "e  3  2  2  2  2  3  4\n",
      "p  4  3  3  3  3  3  4\n",
      "h  5  4  4  4  4  4  4\n",
      "a  6  5  5  5  5  5  5\n",
      "n  7  6  6  6  6  6  6\n",
      "------------------------------\n"
     ]
    }
   ],
   "source": [
    "# LEVENSHTEIN EDIT DISTANCE - doesn't depend on lengths of terms being equal (why?)\n",
    "for term in terms:\n",
    "    edit_d, edit_m = levenshtein_edit_distance(root_term, term)\n",
    "    print('Computing distance between root: {} and term: {}'.format(root_term,\n",
    "                                                                    term))\n",
    "    print('Levenshtein edit distance is {}'.format(edit_d))\n",
    "    print('The complete edit distance matrix is depicted below')\n",
    "    print(edit_m)\n",
    "    print('-'*30)"
   ]
  },
  {
   "cell_type": "code",
   "execution_count": 15,
   "id": "4f237c59",
   "metadata": {},
   "outputs": [
    {
     "name": "stdout",
     "output_type": "stream",
     "text": [
      "Analyzing similarity between root: Believe and term: beleive\n",
      "Cosine distance  is -0.0\n",
      "Cosine similarity  is 1.0\n",
      "----------------------------------------\n",
      "Analyzing similarity between root: Believe and term: bargain\n",
      "Cosine distance  is 0.82\n",
      "Cosine similarity  is 0.18000000000000005\n",
      "----------------------------------------\n",
      "Analyzing similarity between root: Believe and term: Elephan\n",
      "Cosine distance  is 0.35\n",
      "Cosine similarity  is 0.65\n",
      "----------------------------------------\n"
     ]
    }
   ],
   "source": [
    "# COSINE DISTANCE\\SIMILARITY - doesn't depend on lengths of terms being equal\n",
    "for term, boc_term in zip(terms, boc_vector_terms):\n",
    "    print('Analyzing similarity between root: {} and term: {}'.format(root_term,\n",
    "                                                                      term))\n",
    "    distance = round(cosine_distance(root_boc_vector, boc_term),2)\n",
    "    similarity = 1 - distance                                                           \n",
    "    print('Cosine distance  is {}'.format(distance))\n",
    "    print('Cosine similarity  is {}'.format(similarity))\n",
    "    print('-'*40)"
   ]
  }
 ],
 "metadata": {
  "kernelspec": {
   "display_name": "Python 3 (ipykernel)",
   "language": "python",
   "name": "python3"
  },
  "language_info": {
   "codemirror_mode": {
    "name": "ipython",
    "version": 3
   },
   "file_extension": ".py",
   "mimetype": "text/x-python",
   "name": "python",
   "nbconvert_exporter": "python",
   "pygments_lexer": "ipython3",
   "version": "3.9.12"
  }
 },
 "nbformat": 4,
 "nbformat_minor": 5
}
