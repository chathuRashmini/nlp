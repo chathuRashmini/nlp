{
 "cells": [
  {
   "cell_type": "code",
   "execution_count": 1,
   "id": "e232feb2",
   "metadata": {},
   "outputs": [],
   "source": [
    "# Classification and Feature Sets in the NLTK, Part 1\n",
    "\n",
    "# Name Gender Classifier\n",
    "\n",
    "# preparing text data for classification and training and using classifiers\n",
    "# male and female first names (in English) have distinctive characteristics\n",
    "# names ending in a, e, and i are likely to be female\n",
    "# names ending in k, o, r, s and t are likely to be male"
   ]
  },
  {
   "cell_type": "code",
   "execution_count": 2,
   "id": "cb5b2cf9",
   "metadata": {},
   "outputs": [],
   "source": [
    "from nltk.corpus import names\n",
    "\n",
    "import nltk\n",
    "import random"
   ]
  },
  {
   "cell_type": "code",
   "execution_count": 3,
   "id": "fee4f5de",
   "metadata": {},
   "outputs": [],
   "source": [
    "# a function that will extract or build the features for a single name\n",
    "# generate a single feature which consists of the last letter of the name\n",
    "# returns a dictionary with a single item.\n",
    "def gender_features(word):\n",
    "    return{'last_letter': word[-1]}"
   ]
  },
  {
   "cell_type": "code",
   "execution_count": 4,
   "id": "d5012e1d",
   "metadata": {},
   "outputs": [
    {
     "data": {
      "text/plain": [
       "{'last_letter': 'k'}"
      ]
     },
     "execution_count": 4,
     "metadata": {},
     "output_type": "execute_result"
    }
   ],
   "source": [
    "gender_features('Shrek')"
   ]
  },
  {
   "cell_type": "code",
   "execution_count": 49,
   "id": "edd41d68",
   "metadata": {},
   "outputs": [
    {
     "data": {
      "text/plain": [
       "['Aamir', 'Aaron', 'Abbey', 'Abbie', 'Abbot']"
      ]
     },
     "execution_count": 49,
     "metadata": {},
     "output_type": "execute_result"
    }
   ],
   "source": [
    "# construct the training data - a list of first names each of which will be labeled either male or female\n",
    "\n",
    "names.words('male.txt')[:5]"
   ]
  },
  {
   "cell_type": "code",
   "execution_count": 50,
   "id": "9737dcdc",
   "metadata": {},
   "outputs": [
    {
     "data": {
      "text/plain": [
       "['Abagael', 'Abagail', 'Abbe', 'Abbey', 'Abbi']"
      ]
     },
     "execution_count": 50,
     "metadata": {},
     "output_type": "execute_result"
    }
   ],
   "source": [
    "names.words('female.txt')[:5]"
   ]
  },
  {
   "cell_type": "code",
   "execution_count": 7,
   "id": "3ab16b40",
   "metadata": {},
   "outputs": [
    {
     "data": {
      "text/plain": [
       "7944"
      ]
     },
     "execution_count": 7,
     "metadata": {},
     "output_type": "execute_result"
    }
   ],
   "source": [
    "# create one long list with (name, gender) pairs to create the labeled data\n",
    "namesgender = ([(name, 'male') for name in names.words('male.txt')] + [(name, 'female') for name in names.words('female.txt')])\n",
    "len(namesgender)"
   ]
  },
  {
   "cell_type": "code",
   "execution_count": 51,
   "id": "28f3bfa9",
   "metadata": {},
   "outputs": [
    {
     "data": {
      "text/plain": [
       "[('Forrester', 'male'),\n",
       " ('Nero', 'male'),\n",
       " ('Lion', 'male'),\n",
       " ('Garnette', 'female'),\n",
       " ('Annelise', 'female')]"
      ]
     },
     "execution_count": 51,
     "metadata": {},
     "output_type": "execute_result"
    }
   ],
   "source": [
    "namesgender[:5]"
   ]
  },
  {
   "cell_type": "code",
   "execution_count": 53,
   "id": "1b195460",
   "metadata": {},
   "outputs": [
    {
     "data": {
      "text/plain": [
       "[('Joelly', 'female'),\n",
       " ('Mandi', 'female'),\n",
       " ('Berke', 'male'),\n",
       " ('Cyrill', 'male'),\n",
       " ('Rani', 'female'),\n",
       " ('Caressa', 'female'),\n",
       " ('Winn', 'male')]"
      ]
     },
     "execution_count": 53,
     "metadata": {},
     "output_type": "execute_result"
    }
   ],
   "source": [
    "namesgender[7937:]"
   ]
  },
  {
   "cell_type": "code",
   "execution_count": 54,
   "id": "d103e7e3",
   "metadata": {},
   "outputs": [
    {
     "data": {
      "text/plain": [
       "[('Barb', 'female'),\n",
       " ('Tobit', 'male'),\n",
       " ('Nil', 'female'),\n",
       " ('Georg', 'male'),\n",
       " ('Vilma', 'female')]"
      ]
     },
     "execution_count": 54,
     "metadata": {},
     "output_type": "execute_result"
    }
   ],
   "source": [
    "# create a random shuffle\n",
    "random.shuffle(namesgender)\n",
    "namesgender[:5]"
   ]
  },
  {
   "cell_type": "code",
   "execution_count": 55,
   "id": "03747890",
   "metadata": {},
   "outputs": [
    {
     "data": {
      "text/plain": [
       "[({'last_letter': 'b'}, 'female'),\n",
       " ({'last_letter': 't'}, 'male'),\n",
       " ({'last_letter': 'l'}, 'female'),\n",
       " ({'last_letter': 'g'}, 'male'),\n",
       " ({'last_letter': 'a'}, 'female')]"
      ]
     },
     "execution_count": 55,
     "metadata": {},
     "output_type": "execute_result"
    }
   ],
   "source": [
    "# create the list of instances of the problem that consists only of the features and the gender label.\n",
    "featuresets = [(gender_features(n), g) for (n,g) in namesgender]\n",
    "featuresets[:5]"
   ]
  },
  {
   "cell_type": "code",
   "execution_count": 12,
   "id": "702c5519",
   "metadata": {},
   "outputs": [],
   "source": [
    "# split this list into training and test sets\n",
    "train_set, test_set = featuresets[500:], featuresets[:500]"
   ]
  },
  {
   "cell_type": "code",
   "execution_count": 13,
   "id": "28f05ba0",
   "metadata": {},
   "outputs": [],
   "source": [
    "# run the Naïve Bayes classifier\n",
    "classifier = nltk.NaiveBayesClassifier.train(train_set)"
   ]
  },
  {
   "cell_type": "code",
   "execution_count": 14,
   "id": "19672432",
   "metadata": {},
   "outputs": [
    {
     "name": "stdout",
     "output_type": "stream",
     "text": [
      "0.78\n"
     ]
    }
   ],
   "source": [
    "# compute the accuracy of the classifier on the test set.\n",
    "print (nltk.classify.accuracy(classifier, test_set))"
   ]
  },
  {
   "cell_type": "code",
   "execution_count": 59,
   "id": "5034248b",
   "metadata": {},
   "outputs": [
    {
     "data": {
      "text/plain": [
       "'female'"
      ]
     },
     "execution_count": 59,
     "metadata": {},
     "output_type": "execute_result"
    }
   ],
   "source": [
    "# use a classifier to label totally new instances of the problem\n",
    "# names that come from the future\n",
    "classifier.classify(gender_features('Neo'))"
   ]
  },
  {
   "cell_type": "code",
   "execution_count": 60,
   "id": "b757c39f",
   "metadata": {},
   "outputs": [
    {
     "data": {
      "text/plain": [
       "'female'"
      ]
     },
     "execution_count": 60,
     "metadata": {},
     "output_type": "execute_result"
    }
   ],
   "source": [
    "classifier.classify(gender_features('Trinity'))"
   ]
  },
  {
   "cell_type": "code",
   "execution_count": 17,
   "id": "6d0ba3a9",
   "metadata": {
    "scrolled": true
   },
   "outputs": [
    {
     "name": "stdout",
     "output_type": "stream",
     "text": [
      "Most Informative Features\n",
      "             last_letter = 'a'            female : male   =     35.8 : 1.0\n",
      "             last_letter = 'k'              male : female =     30.6 : 1.0\n",
      "             last_letter = 'f'              male : female =     17.2 : 1.0\n",
      "             last_letter = 'p'              male : female =     11.8 : 1.0\n",
      "             last_letter = 'v'              male : female =     11.1 : 1.0\n",
      "             last_letter = 'd'              male : female =      9.9 : 1.0\n",
      "             last_letter = 'm'              male : female =      9.1 : 1.0\n",
      "             last_letter = 'o'              male : female =      7.8 : 1.0\n",
      "             last_letter = 'r'              male : female =      7.2 : 1.0\n",
      "             last_letter = 'g'              male : female =      5.4 : 1.0\n",
      "             last_letter = 'w'              male : female =      5.1 : 1.0\n",
      "             last_letter = 'b'              male : female =      4.3 : 1.0\n",
      "             last_letter = 's'              male : female =      4.2 : 1.0\n",
      "             last_letter = 't'              male : female =      4.0 : 1.0\n",
      "             last_letter = 'z'              male : female =      3.9 : 1.0\n",
      "             last_letter = 'j'              male : female =      3.9 : 1.0\n",
      "             last_letter = 'i'            female : male   =      3.9 : 1.0\n",
      "             last_letter = 'u'              male : female =      3.5 : 1.0\n",
      "             last_letter = 'n'              male : female =      2.1 : 1.0\n",
      "             last_letter = 'e'            female : male   =      1.8 : 1.0\n"
     ]
    }
   ],
   "source": [
    "# shows the feature values that were most important in doing the classification\n",
    "classifier.show_most_informative_features(20)\n",
    "\n",
    "# last_letter = 'a' female : male = 35.4 : 1.0\n",
    "# last_letter = ‘a’, it is 35.4 times more likely to be classified as female"
   ]
  },
  {
   "cell_type": "code",
   "execution_count": 18,
   "id": "5499f9f4",
   "metadata": {},
   "outputs": [],
   "source": [
    "# Choosing Good Features\n",
    "\n",
    "# Selecting relevant features can usually be the most important part of training a classifier\n",
    "# throw in as many features as possible and then try to figure out which ones were important\n",
    "# throwing in too many features can cause 'overfitting'"
   ]
  },
  {
   "cell_type": "code",
   "execution_count": 19,
   "id": "4c188eb0",
   "metadata": {},
   "outputs": [],
   "source": [
    "# a feature extraction function that has the first letter, the last letter, a count of each letter, \n",
    "# and the individual letters of the name\n",
    "\n",
    "def gender_features2(name):\n",
    "    features = {}\n",
    "    \n",
    "    features[\"firstletter\"] = name[0].lower()\n",
    "    features[\"lastletter\"] = name[-1].lower()\n",
    "    \n",
    "    for letter in 'abcdefghijklmnopqrstuvwxyz':\n",
    "        features[\"count(%s)\" % letter] = name.lower().count(letter)\n",
    "        features[\"has(%s)\" % letter] = (letter in name.lower())\n",
    "    return features"
   ]
  },
  {
   "cell_type": "code",
   "execution_count": 20,
   "id": "1176cc1b",
   "metadata": {},
   "outputs": [],
   "source": [
    "features = gender_features2('Shrek')"
   ]
  },
  {
   "cell_type": "code",
   "execution_count": 21,
   "id": "06801c1c",
   "metadata": {},
   "outputs": [
    {
     "data": {
      "text/plain": [
       "54"
      ]
     },
     "execution_count": 21,
     "metadata": {},
     "output_type": "execute_result"
    }
   ],
   "source": [
    "len(features)"
   ]
  },
  {
   "cell_type": "code",
   "execution_count": 46,
   "id": "1dd7a797",
   "metadata": {},
   "outputs": [
    {
     "data": {
      "text/plain": [
       "{'firstletter': 's',\n",
       " 'lastletter': 'k',\n",
       " 'count(a)': 0,\n",
       " 'has(a)': False,\n",
       " 'count(b)': 0,\n",
       " 'has(b)': False,\n",
       " 'count(c)': 0,\n",
       " 'has(c)': False,\n",
       " 'count(d)': 0,\n",
       " 'has(d)': False,\n",
       " 'count(e)': 1,\n",
       " 'has(e)': True,\n",
       " 'count(f)': 0,\n",
       " 'has(f)': False,\n",
       " 'count(g)': 0,\n",
       " 'has(g)': False,\n",
       " 'count(h)': 1,\n",
       " 'has(h)': True,\n",
       " 'count(i)': 0,\n",
       " 'has(i)': False,\n",
       " 'count(j)': 0,\n",
       " 'has(j)': False,\n",
       " 'count(k)': 1,\n",
       " 'has(k)': True,\n",
       " 'count(l)': 0,\n",
       " 'has(l)': False,\n",
       " 'count(m)': 0,\n",
       " 'has(m)': False,\n",
       " 'count(n)': 0,\n",
       " 'has(n)': False,\n",
       " 'count(o)': 0,\n",
       " 'has(o)': False,\n",
       " 'count(p)': 0,\n",
       " 'has(p)': False,\n",
       " 'count(q)': 0,\n",
       " 'has(q)': False,\n",
       " 'count(r)': 1,\n",
       " 'has(r)': True,\n",
       " 'count(s)': 1,\n",
       " 'has(s)': True,\n",
       " 'count(t)': 0,\n",
       " 'has(t)': False,\n",
       " 'count(u)': 0,\n",
       " 'has(u)': False,\n",
       " 'count(v)': 0,\n",
       " 'has(v)': False,\n",
       " 'count(w)': 0,\n",
       " 'has(w)': False,\n",
       " 'count(x)': 0,\n",
       " 'has(x)': False,\n",
       " 'count(y)': 0,\n",
       " 'has(y)': False,\n",
       " 'count(z)': 0,\n",
       " 'has(z)': False}"
      ]
     },
     "execution_count": 46,
     "metadata": {},
     "output_type": "execute_result"
    }
   ],
   "source": [
    "features"
   ]
  },
  {
   "cell_type": "code",
   "execution_count": 23,
   "id": "981e1179",
   "metadata": {},
   "outputs": [],
   "source": [
    "# new feature sets for all names in the namesgender list.\n",
    "featuresets2 = [(gender_features2(n), g) for (n, g) in namesgender]"
   ]
  },
  {
   "cell_type": "code",
   "execution_count": 32,
   "id": "c9e28488",
   "metadata": {},
   "outputs": [
    {
     "name": "stdout",
     "output_type": "stream",
     "text": [
      "Forrester {'firstletter': 'f', 'lastletter': 'r', 'count(a)': 0, 'has(a)': False, 'count(b)': 0, 'has(b)': False, 'count(c)': 0, 'has(c)': False, 'count(d)': 0, 'has(d)': False, 'count(e)': 2, 'has(e)': True, 'count(f)': 1, 'has(f)': True, 'count(g)': 0, 'has(g)': False, 'count(h)': 0, 'has(h)': False, 'count(i)': 0, 'has(i)': False, 'count(j)': 0, 'has(j)': False, 'count(k)': 0, 'has(k)': False, 'count(l)': 0, 'has(l)': False, 'count(m)': 0, 'has(m)': False, 'count(n)': 0, 'has(n)': False, 'count(o)': 1, 'has(o)': True, 'count(p)': 0, 'has(p)': False, 'count(q)': 0, 'has(q)': False, 'count(r)': 3, 'has(r)': True, 'count(s)': 1, 'has(s)': True, 'count(t)': 1, 'has(t)': True, 'count(u)': 0, 'has(u)': False, 'count(v)': 0, 'has(v)': False, 'count(w)': 0, 'has(w)': False, 'count(x)': 0, 'has(x)': False, 'count(y)': 0, 'has(y)': False, 'count(z)': 0, 'has(z)': False} \n",
      "\n"
     ]
    }
   ],
   "source": [
    "for (n, g) in namesgender[0:1]:\n",
    "    print (n, gender_features2(n), '\\n')"
   ]
  },
  {
   "cell_type": "code",
   "execution_count": 33,
   "id": "e7302201",
   "metadata": {},
   "outputs": [
    {
     "name": "stdout",
     "output_type": "stream",
     "text": [
      "0.762\n"
     ]
    }
   ],
   "source": [
    "# accuracy check\n",
    "train_set, test_set = featuresets2[500:], featuresets2[:500]\n",
    "classifier = nltk.NaiveBayesClassifier.train(train_set)\n",
    "print (nltk.classify.accuracy(classifier, test_set))"
   ]
  },
  {
   "cell_type": "code",
   "execution_count": 34,
   "id": "4dc2fd4d",
   "metadata": {},
   "outputs": [],
   "source": [
    "# development process -: error analysis of the test set to change our features and retrain the classifier if needed\n",
    "# keep a separate test set that was not used in the error analysis for final evaluation\n",
    "# divide labeled data into a training set, a development test set, and a test set\n",
    "\n",
    "train_names = namesgender[1500:]\n",
    "devtest_names = namesgender[500:1500]\n",
    "test_names = namesgender[:500]"
   ]
  },
  {
   "cell_type": "code",
   "execution_count": 35,
   "id": "a395252e",
   "metadata": {
    "scrolled": true
   },
   "outputs": [
    {
     "name": "stdout",
     "output_type": "stream",
     "text": [
      "0.766\n"
     ]
    }
   ],
   "source": [
    "# generate the features for each name and train the classifier.\n",
    "\n",
    "train_set = [(gender_features(n), g) for (n,g) in train_names]\n",
    "devtest_set = [(gender_features(n), g) for (n,g) in devtest_names]\n",
    "test_set = [(gender_features(n), g) for (n,g) in test_names]\n",
    "\n",
    "classifier = nltk.NaiveBayesClassifier.train(train_set)\n",
    "\n",
    "print (nltk.classify.accuracy(classifier, devtest_set))"
   ]
  },
  {
   "cell_type": "code",
   "execution_count": 36,
   "id": "b609f4b5",
   "metadata": {},
   "outputs": [],
   "source": [
    "# a function that will get a list of errors by running the classifier on the development test names \n",
    "# and comparing it with the original name gender labels\n",
    "\n",
    "def geterrors(devtest):\n",
    "    errors = []\n",
    "    for (name, tag) in devtest:\n",
    "        guess = classifier.classify(gender_features(name))\n",
    "        if guess != tag:\n",
    "            errors.append( (tag, guess, name) )\n",
    "    return errors"
   ]
  },
  {
   "cell_type": "code",
   "execution_count": 37,
   "id": "34affed8",
   "metadata": {},
   "outputs": [
    {
     "data": {
      "text/plain": [
       "234"
      ]
     },
     "execution_count": 37,
     "metadata": {},
     "output_type": "execute_result"
    }
   ],
   "source": [
    "errors = geterrors(devtest_names)\n",
    "len(errors)"
   ]
  },
  {
   "cell_type": "code",
   "execution_count": 38,
   "id": "0abae8a5",
   "metadata": {},
   "outputs": [],
   "source": [
    "# a function to print all the errors, sorted by the correct labels\n",
    "\n",
    "def printerrors(errors):\n",
    "    for (tag, guess, name) in sorted(errors):\n",
    "        print ('correct=%-8s guess=%-8s name=%-30s' % (tag, guess, name))"
   ]
  },
  {
   "cell_type": "code",
   "execution_count": 39,
   "id": "d75505e0",
   "metadata": {},
   "outputs": [
    {
     "name": "stdout",
     "output_type": "stream",
     "text": [
      "correct=female   guess=male     name=Charlott                      \n",
      "correct=female   guess=male     name=Charo                         \n",
      "correct=female   guess=male     name=Karon                         \n",
      "correct=female   guess=male     name=Lynnet                        \n",
      "correct=female   guess=male     name=Madelin                       \n",
      "correct=male     guess=female   name=Anthony                       \n",
      "correct=male     guess=female   name=Charley                       \n",
      "correct=male     guess=female   name=Ferdie                        \n",
      "correct=male     guess=female   name=Tre                           \n",
      "correct=male     guess=female   name=Zollie                        \n"
     ]
    }
   ],
   "source": [
    "printerrors(errors[:10])"
   ]
  },
  {
   "cell_type": "code",
   "execution_count": null,
   "id": "a95855ee",
   "metadata": {},
   "outputs": [],
   "source": [
    "# EXERCISE"
   ]
  },
  {
   "cell_type": "code",
   "execution_count": 40,
   "id": "77e3f908",
   "metadata": {},
   "outputs": [],
   "source": [
    "def gender_features3(word):\n",
    "    return {'suffix1': word[-1],\n",
    "            'suffix2': word[-2]}"
   ]
  },
  {
   "cell_type": "code",
   "execution_count": 41,
   "id": "eb25b097",
   "metadata": {},
   "outputs": [
    {
     "name": "stdout",
     "output_type": "stream",
     "text": [
      "0.77\n"
     ]
    }
   ],
   "source": [
    "new_train_set = [(gender_features3(n), g) for (n,g) in train_names]\n",
    "new_devtest_set = [(gender_features3(n), g) for (n,g) in devtest_names]\n",
    "new_test_set = [(gender_features3(n), g) for (n,g) in test_names]\n",
    "new_classifier = nltk.NaiveBayesClassifier.train(new_train_set)\n",
    "print (nltk.classify.accuracy(new_classifier, new_devtest_set))"
   ]
  },
  {
   "cell_type": "code",
   "execution_count": 42,
   "id": "1c19e431",
   "metadata": {},
   "outputs": [
    {
     "data": {
      "text/plain": [
       "234"
      ]
     },
     "execution_count": 42,
     "metadata": {},
     "output_type": "execute_result"
    }
   ],
   "source": [
    "errors = geterrors(devtest_names)\n",
    "len(errors)"
   ]
  },
  {
   "cell_type": "code",
   "execution_count": 44,
   "id": "2cb614d2",
   "metadata": {},
   "outputs": [
    {
     "name": "stdout",
     "output_type": "stream",
     "text": [
      "correct=female   guess=male     name=Charlott                      \n",
      "correct=female   guess=male     name=Charo                         \n",
      "correct=female   guess=male     name=Karon                         \n",
      "correct=female   guess=male     name=Lynnet                        \n",
      "correct=female   guess=male     name=Madelin                       \n",
      "correct=male     guess=female   name=Anthony                       \n",
      "correct=male     guess=female   name=Charley                       \n",
      "correct=male     guess=female   name=Ferdie                        \n",
      "correct=male     guess=female   name=Tre                           \n",
      "correct=male     guess=female   name=Zollie                        \n"
     ]
    }
   ],
   "source": [
    "printerrors(errors[:10])"
   ]
  }
 ],
 "metadata": {
  "kernelspec": {
   "display_name": "Python 3 (ipykernel)",
   "language": "python",
   "name": "python3"
  },
  "language_info": {
   "codemirror_mode": {
    "name": "ipython",
    "version": 3
   },
   "file_extension": ".py",
   "mimetype": "text/x-python",
   "name": "python",
   "nbconvert_exporter": "python",
   "pygments_lexer": "ipython3",
   "version": "3.9.12"
  }
 },
 "nbformat": 4,
 "nbformat_minor": 5
}
